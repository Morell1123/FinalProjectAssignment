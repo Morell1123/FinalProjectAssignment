{
 "cells": [
  {
   "cell_type": "code",
   "execution_count": 1,
   "id": "0e9413a9",
   "metadata": {},
   "outputs": [
    {
     "name": "stdout",
     "output_type": "stream",
     "text": [
      "P\thttp://codeproject.com/kb/silverlight/convertsilverlightcontrol.aspx\n",
      "T\t2008-08-01 00:00:00\n",
      "Q\thow to create property binding in a visual webgui silverlight control\n",
      "Q\tvideoplayer silverlight controls videoplayer videoplayer silverlight controls version 1 0 0 0 culture neutral publickeytoken null\n",
      "Q\tvideoplayer controls videoplayer videoplayer controls\n",
      "\n",
      "P\thttp://wallstreetexaminer.com/?p=2987\n",
      "T\t2008-08-01 00:00:01\n",
      "\n",
      "P\thttp://news.bbc.co.uk/go/rss/-/1/hi/scotland/highlands_and_islands/7535558.stm\n"
     ]
    }
   ],
   "source": [
    "#load the dataset\n",
    "import gzip\n",
    "\n",
    "def load_txt_gz(file_path):\n",
    "    with gzip.open(file_path, 'rt', errors='ignore') as file:\n",
    "        content = [line.strip() for line in file]\n",
    "    return content\n",
    "\n",
    "#file_path = 'C:/Users/nicco/OneDrive - ETH Zurich/Master EST/23FS - DTU/Computational Social Science/Ass3_4/quotes_2008-08.txt.gz'\n",
    "content = load_txt_gz('quotes_2008-08.txt.gz')\n",
    "\n",
    "# Print the first few lines to inspect the content\n",
    "for line in content[:10]:\n",
    "    print(line)"
   ]
  },
  {
   "cell_type": "code",
   "execution_count": 2,
   "id": "ad2ac904",
   "metadata": {},
   "outputs": [
    {
     "name": "stdout",
     "output_type": "stream",
     "text": [
      "Used RAM: 7917.80 MB\n"
     ]
    }
   ],
   "source": [
    "#Check RAM usage\n",
    "import os\n",
    "import psutil\n",
    "\n",
    "def print_used_ram():\n",
    "    process = psutil.Process(os.getpid())\n",
    "    mem_info = process.memory_info()\n",
    "    used_ram = mem_info.rss / (1024 * 1024)  # Convert to MB\n",
    "    print(f\"Used RAM: {used_ram:.2f} MB\")\n",
    "\n",
    "print_used_ram()"
   ]
  },
  {
   "cell_type": "code",
   "execution_count": null,
   "id": "5c3c13f1",
   "metadata": {},
   "outputs": [],
   "source": [
    "sub = []\n",
    "for line in content[:100000000]:\n",
    "    sub.append(line)"
   ]
  },
  {
   "cell_type": "code",
   "execution_count": 4,
   "id": "b3137a07",
   "metadata": {},
   "outputs": [],
   "source": [
    "import gzip\n",
    "filename =\"subset.txt.gz\"\n",
    "\n",
    "with gzip.open(filename, 'wt') as fo:\n",
    "    for line in content[:100]:\n",
    "        fo.write(line)"
   ]
  },
  {
   "cell_type": "code",
   "execution_count": 5,
   "id": "71156817",
   "metadata": {},
   "outputs": [
    {
     "name": "stdout",
     "output_type": "stream",
     "text": [
      "P\thttp://codeproject.com/kb/silverlight/convertsilverlightcontrol.aspx\n",
      "T\t2008-08-01 00:00:00\n",
      "Q\thow to create property binding in a visual webgui silverlight control\n",
      "Q\tvideoplayer silverlight controls videoplayer videoplayer silverlight controls version 1 0 0 0 culture neutral publickeytoken null\n",
      "Q\tvideoplayer controls videoplayer videoplayer controls\n",
      "\n",
      "P\thttp://wallstreetexaminer.com/?p=2987\n",
      "T\t2008-08-01 00:00:01\n",
      "\n",
      "P\thttp://news.bbc.co.uk/go/rss/-/1/hi/scotland/highlands_and_islands/7535558.stm\n",
      "T\t2008-08-01 00:00:01\n",
      "Q\tour continuing strategic priority is to provide a safe and efficient group of airports while pursuing development opportunities which improve the air transport network serving the region\n",
      "Q\tour results for the year demonstrate that we have delivered against these targets and ensured that our airports have continued to play a central role in the economic and social life of the highlands and islands and tayside\n",
      "\n",
      "P\thttp://news.bbc.co.uk/go/rss/-/1/hi/scotland/south_of_scotland/7535392.stm\n",
      "T\t2008-08-01 00:00:01\n",
      "Q\tsafeguard our fishing communities birthright for future generations\n",
      "Q\tevery time i visit a fishing community in scotland i am asked to take steps to protect fishing rights for future generations\n",
      "\n",
      "P\thttp://news.bbc.co.uk/go/rss/-/1/hi/scotland/north_east/7535090.stm\n"
     ]
    }
   ],
   "source": [
    "# Print the first few lines to inspect the content\n",
    "for line in content[:20]:\n",
    "    print(line)"
   ]
  },
  {
   "cell_type": "code",
   "execution_count": 6,
   "id": "322a14fd",
   "metadata": {},
   "outputs": [],
   "source": [
    "import networkx as nx\n",
    "\n",
    "# Initialize an empty graph\n",
    "G = nx.DiGraph()\n",
    "\n",
    "current_node = None\n",
    "\n",
    "for line in content:\n",
    "    parts = line.split(\"\\t\")\n",
    "    \n",
    "    if parts[0] == \"P\":\n",
    "        current_node = parts[1].strip()\n",
    "        G.add_node(current_node, name=current_node, attributes=[], links=[])\n",
    "    elif current_node is not None:\n",
    "        if parts[0] == \"T\":\n",
    "            G.nodes[current_node][\"timestamp\"] = parts[1].strip()\n",
    "        elif parts[0] == \"Q\":\n",
    "            G.nodes[current_node][\"attributes\"].append(parts[1].strip())\n",
    "        elif parts[0] == \"L\":\n",
    "            link = parts[1].strip()\n",
    "            if not G.has_node(link):\n",
    "                G.add_node(link, name=link, attributes=[], links=[])\n",
    "            G.add_edge(current_node, link)\n",
    "\n",
    "# Now G contains the network created from the list"
   ]
  },
  {
   "cell_type": "code",
   "execution_count": 21,
   "id": "d84e6790",
   "metadata": {
    "scrolled": true
   },
   "outputs": [
    {
     "name": "stdout",
     "output_type": "stream",
     "text": [
      "Number of nodes: 2729743\n",
      "Number of edges: 3336256\n",
      "Average degree: 2.44\n",
      "Density: 0.0000\n",
      "Node with maximum in-degree: http://vimeo.com/log_in (in-degree: 4733)\n",
      "Node with maximum out-degree: http://citeulike.org/group/5855/article/2913153 (out-degree: 3600)\n",
      "Number of connected components: 882724\n",
      "Size of the largest connected component: 1221125\n"
     ]
    }
   ],
   "source": [
    "# Calculate summary statistics\n",
    "num_nodes = G.number_of_nodes()\n",
    "num_edges = G.number_of_edges()\n",
    "avg_degree = sum(dict(G.degree()).values()) / num_nodes\n",
    "density = nx.density(G)\n",
    "\n",
    "# Print summary statistics\n",
    "print(f\"Number of nodes: {num_nodes}\")\n",
    "print(f\"Number of edges: {num_edges}\")\n",
    "print(f\"Average degree: {avg_degree:.2f}\")\n",
    "print(f\"Density: {density:.4f}\")\n",
    "\n",
    "# Calculate and print some additional statistics if the graph is not empty\n",
    "if num_nodes > 0:\n",
    "    in_degrees = dict(G.in_degree())\n",
    "    out_degrees = dict(G.out_degree())\n",
    "    \n",
    "    max_in_degree_node = max(in_degrees, key=in_degrees.get)\n",
    "    max_out_degree_node = max(out_degrees, key=out_degrees.get)\n",
    "    \n",
    "    print(f\"Node with maximum in-degree: {max_in_degree_node} (in-degree: {in_degrees[max_in_degree_node]})\")\n",
    "    print(f\"Node with maximum out-degree: {max_out_degree_node} (out-degree: {out_degrees[max_out_degree_node]})\")\n",
    "\n",
    "    # Calculate connected components for a weakly connected version of the graph\n",
    "    G_weak = nx.DiGraph.to_undirected(G)\n",
    "    connected_components = [c for c in nx.connected_components(G_weak)]\n",
    "    num_connected_components = len(connected_components)\n",
    "    largest_connected_component = max(connected_components, key=len)\n",
    "    \n",
    "    print(f\"Number of connected components: {num_connected_components}\")\n",
    "    print(f\"Size of the largest connected component: {len(largest_connected_component)}\")"
   ]
  },
  {
   "cell_type": "code",
   "execution_count": 6,
   "id": "e28d2b7e",
   "metadata": {},
   "outputs": [],
   "source": [
    "import pandas as pd\n",
    "import os\n",
    "import networkx as nx\n",
    "import matplotlib.pyplot as plt\n",
    "import numpy as np\n",
    "from scipy import stats\n",
    "import math"
   ]
  },
  {
   "cell_type": "code",
   "execution_count": 13,
   "id": "60ec6dc7",
   "metadata": {},
   "outputs": [
    {
     "name": "stderr",
     "output_type": "stream",
     "text": [
      "C:\\Users\\nicco\\AppData\\Local\\Temp\\ipykernel_17980\\4258825456.py:8: DeprecationWarning: `np.int` is a deprecated alias for the builtin `int`. To silence this warning, use `int` by itself. Doing this will not modify any behavior and is safe. When replacing `np.int`, you may wish to use e.g. `np.int64` or `np.int32` to specify the precision. If you wish to review your current use, check the release note link for additional information.\n",
      "Deprecated in NumPy 1.20; for more details and guidance: https://numpy.org/devdocs/release/1.20.0-notes.html#deprecations\n",
      "  bins = np.linspace(math.floor(min(X)), math.ceil(max(X)), np.round(math.ceil(max(X))/100).astype(np.int)) #create bins with width of two\n",
      "C:\\Users\\nicco\\AppData\\Local\\Temp\\ipykernel_17980\\4258825456.py:10: DeprecationWarning: `np.int` is a deprecated alias for the builtin `int`. To silence this warning, use `int` by itself. Doing this will not modify any behavior and is safe. When replacing `np.int`, you may wish to use e.g. `np.int64` or `np.int32` to specify the precision. If you wish to review your current use, check the release note link for additional information.\n",
      "Deprecated in NumPy 1.20; for more details and guidance: https://numpy.org/devdocs/release/1.20.0-notes.html#deprecations\n",
      "  bins = np.logspace(0, np.log10(math.ceil(max(X))), np.round(math.ceil(max(X))/2500).astype(np.int))\n"
     ]
    },
    {
     "data": {
      "image/png": "[encoded data removed]",
      "text/plain": [
       "<Figure size 640x480 with 1 Axes>"
      ]
     },
     "metadata": {},
     "output_type": "display_data"
    }
   ],
   "source": [
    "X = degrees = [d for n, d in G.degree()]\n",
    "x_log = True\n",
    "y_log = True\n",
    "bar_hist = False\n",
    "\n",
    "\n",
    "# Create histogram\n",
    "bins = np.linspace(math.floor(min(X)), math.ceil(max(X)), np.round(math.ceil(max(X))/100).astype(np.int)) #create bins with width of two\n",
    "if x_log:\n",
    "    bins = np.logspace(0, np.log10(math.ceil(max(X))), np.round(math.ceil(max(X))/2500).astype(np.int))\n",
    "hist, edges = np.histogram(X, bins = bins, density = True) #change density to false if you want y = count (instead of probability distribution))\n",
    "x = (edges[1:]+edges[:-1])/2\n",
    "width = bins[1]-bins[0]\n",
    "\n",
    "xx, yy = zip(*[(i,j) for (i,j) in zip(x, hist) if j>0]) #only keep values above zero\n",
    "\n",
    "fig, ax = plt.subplots()\n",
    "if bar_hist:\n",
    "    ax.bar(xx, yy, width = width *0.9)\n",
    "else:\n",
    "    ax.plot(xx, yy, marker = '.')\n",
    "\n",
    "ax.set_xlabel('Degrees')\n",
    "ax.set_ylabel('Probability distribution')\n",
    "if x_log:\n",
    "    ax.set_xscale('log')\n",
    "if y_log:\n",
    "    ax.set_yscale('log')"
   ]
  },
  {
   "cell_type": "code",
   "execution_count": null,
   "id": "49a75f01",
   "metadata": {},
   "outputs": [],
   "source": []
  }
 ],
 "metadata": {
  "kernelspec": {
   "display_name": "Python 3 (ipykernel)",
   "language": "python",
   "name": "python3"
  },
  "language_info": {
   "codemirror_mode": {
    "name": "ipython",
    "version": 3
   },
   "file_extension": ".py",
   "mimetype": "text/x-python",
   "name": "python",
   "nbconvert_exporter": "python",
   "pygments_lexer": "ipython3",
   "version": "3.9.7"
  }
 },
 "nbformat": 4,
 "nbformat_minor": 5
}
