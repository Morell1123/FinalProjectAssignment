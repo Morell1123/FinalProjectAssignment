{
 "cells": [
  {
   "cell_type": "code",
   "execution_count": 1,
   "id": "0e9413a9",
   "metadata": {},
   "outputs": [
    {
     "name": "stdout",
     "output_type": "stream",
     "text": [
      "P\thttp://codeproject.com/kb/silverlight/convertsilverlightcontrol.aspx\n",
      "T\t2008-08-01 00:00:00\n",
      "Q\thow to create property binding in a visual webgui silverlight control\n",
      "Q\tvideoplayer silverlight controls videoplayer videoplayer silverlight controls version 1 0 0 0 culture neutral publickeytoken null\n",
      "Q\tvideoplayer controls videoplayer videoplayer controls\n",
      "\n",
      "P\thttp://wallstreetexaminer.com/?p=2987\n",
      "T\t2008-08-01 00:00:01\n",
      "\n",
      "P\thttp://news.bbc.co.uk/go/rss/-/1/hi/scotland/highlands_and_islands/7535558.stm\n"
     ]
    }
   ],
   "source": [
    "#load the dataset\n",
    "import gzip\n",
    "\n",
    "def load_txt_gz(file_path):\n",
    "    with gzip.open(file_path, 'rt', errors='ignore') as file:\n",
    "        content = [line.strip() for line in file]\n",
    "    return content\n",
    "\n",
    "#file_path = 'C:/Users/nicco/OneDrive - ETH Zurich/Master EST/23FS - DTU/Computational Social Science/Ass3_4/quotes_2008-08.txt.gz'\n",
    "content = load_txt_gz('quotes_2008-08.txt.gz')\n",
    "\n",
    "# Print the first few lines to inspect the content\n",
    "for line in content[:10]:\n",
    "    print(line)"
   ]
  },
  {
   "cell_type": "code",
   "execution_count": 2,
   "id": "ad2ac904",
   "metadata": {},
   "outputs": [
    {
     "name": "stdout",
     "output_type": "stream",
     "text": [
      "Used RAM: 6413.29 MB\n"
     ]
    }
   ],
   "source": [
    "#Check RAM usage\n",
    "import os\n",
    "import psutil\n",
    "\n",
    "def print_used_ram():\n",
    "    process = psutil.Process(os.getpid())\n",
    "    mem_info = process.memory_info()\n",
    "    used_ram = mem_info.rss / (1024 * 1024)  # Convert to MB\n",
    "    print(f\"Used RAM: {used_ram:.2f} MB\")\n",
    "\n",
    "print_used_ram()"
   ]
  },
  {
   "cell_type": "code",
   "execution_count": 56,
   "id": "5df59172",
   "metadata": {},
   "outputs": [
    {
     "data": {
      "text/plain": [
       "'Q\\thaide calu pune-l la p m nt'"
      ]
     },
     "execution_count": 56,
     "metadata": {},
     "output_type": "execute_result"
    }
   ],
   "source": []
  },
  {
   "cell_type": "code",
   "execution_count": 4,
   "id": "5c3c13f1",
   "metadata": {},
   "outputs": [],
   "source": [
    "sub = []\n",
    "for line in content[:1000000]:\n",
    "    sub.append(line)"
   ]
  },
  {
   "cell_type": "code",
   "execution_count": 4,
   "id": "b3137a07",
   "metadata": {},
   "outputs": [],
   "source": [
    "import gzip\n",
    "filename =\"subset.txt.gz\"\n",
    "\n",
    "with gzip.open(filename, 'wt') as fo:\n",
    "    for line in content[:100]:\n",
    "        fo.write(line)"
   ]
  },
  {
   "cell_type": "code",
   "execution_count": 66,
   "id": "71156817",
   "metadata": {},
   "outputs": [
    {
     "name": "stdout",
     "output_type": "stream",
     "text": [
      "Q\tfoi uma promessa que fiz hoje quinta-feira ao presidente da rep blica que esteve presente no encontro\n",
      "Q\tindependente para que n o haja confus o com interesses privados\n",
      "Q\ta inclus o social de outros talentos de outras partes do mundo que portugal seja um local atraente para que todos os que est o l fora queiram vir para aqui\n",
      "Q\to que nacional bom\n",
      "Q\tser portugu s\n",
      "Q\tprecedente muito grave\n",
      "Q\tdispon vel para ajudar\n",
      "\n",
      "P\thttp://marinelog.com/docs/newsmmvii/2008jul00312.html\n",
      "T\t2008-08-01 00:00:04\n",
      "Q\tit is no longer feasible or affordable to purchase the most capable multi-mission platform and then limit its use to execute tailored mission areas or focus on specific threats as asymmetric threats continue to evolve so will traditional threats the navy must find affordable and adaptable ways to fill current and future warfighting gaps\n",
      "Q\ta capable ship which meets the requirements for which it was designed\n",
      "Q\tthe ddg 1000 cannot perform area air defense specifically it cannot successfully employ the standard missile sm-2 sm-3 or sm-6 and is incapable of conducting ballistic missile defense although superior in littoral asw the ddg 1000 lower power sonar design is less effective in the blue water than ddg-51 capability ddg 1000's advanced gun system ags design provides enhanced naval fires support capability in the littorals with increased survivability however with the accelerated advancement of precision munitions and targeting excess fires capacity already exists from tactical aviation and organic usmc fires unfortunately the ddg 1000 design sacrifices capacity for increased capability in an area where navy already has and is projected to have sufficient capacity and capability\n",
      "\n",
      "P\thttp://maitland.yourguide.com.au/news/local/news/general/foul-odour-unmasked/1232399.aspx?src=rss\n",
      "T\t2008-08-01 00:00:05\n",
      "Q\tfor four weeks between may and june we had decc officers on 24-hour call in the field to respond to resident odour complaints and to monitor contributing factors such as location and wind\n",
      "Q\tduring the course of our investigations we located one industry where the odour controls were not working correctly and we are now making sure that the company rectifies this\n",
      "Q\tboth of these businesses are co-operating with decc staff to help eliminate any potential contributions they may be making towards rutherford's odour issues and that's a very positive outcome\n",
      "Q\twe were able to analyse four samples from our odour-capturing canisters used during the survey however none of these came from residential areas and with the exception of the samples obtained from hunter water corporation's sewer system were in fact typical of busy roads\n"
     ]
    }
   ],
   "source": [
    "# Print the first few lines to inspect the content\n",
    "for line in content[30:50]:\n",
    "    print(line)"
   ]
  },
  {
   "cell_type": "code",
   "execution_count": 99,
   "id": "322a14fd",
   "metadata": {},
   "outputs": [
    {
     "name": "stderr",
     "output_type": "stream",
     "text": [
      "[nltk_data] Downloading package stopwords to\n",
      "[nltk_data]     C:\\Users\\Ejer\\AppData\\Roaming\\nltk_data...\n",
      "[nltk_data]   Package stopwords is already up-to-date!\n",
      "[nltk_data] Downloading package punkt to\n",
      "[nltk_data]     C:\\Users\\Ejer\\AppData\\Roaming\\nltk_data...\n",
      "[nltk_data]   Package punkt is already up-to-date!\n"
     ]
    },
    {
     "name": "stdout",
     "output_type": "stream",
     "text": [
      "0.1 in 0.002120061715443929 minuts\n",
      "0.2 in 0.0035206158955891926 minuts\n",
      "0.3 in 0.004637328783671061 minuts\n",
      "0.4 in 0.005437326431274414 minuts\n",
      "0.5 in 0.007304036617279052 minuts\n",
      "0.6 in 0.009070487817128499 minuts\n",
      "0.7 in 0.010720789432525635 minuts\n",
      "0.8 in 0.012720791498819987 minuts\n",
      "0.9 in 0.013970839977264404 minuts\n",
      "1.0 in 0.015538036823272705 minuts\n",
      "time taken to process: 0.015588009357452392 minuts\n"
     ]
    }
   ],
   "source": [
    "import networkx as nx\n",
    "from textblob import TextBlob\n",
    "from collections import defaultdict\n",
    "import nltk\n",
    "from nltk.corpus import stopwords\n",
    "from math import log\n",
    "\n",
    "\n",
    "nltk.download('stopwords')\n",
    "nltk.download('punkt')\n",
    "stop_words = set(stopwords.words('english'))\n",
    "\n",
    "def preprocess_and_get_sentiment_score(phrase):\n",
    "    tokens = nltk.word_tokenize(phrase)\n",
    "    non_stopwords = [word for word in tokens if word.lower() not in stop_words]\n",
    "    non_stopword_count = len(non_stopwords)\n",
    "    filtered_phrase = ' '.join(non_stopwords)\n",
    "    sentiment_score = TextBlob(filtered_phrase).sentiment.polarity\n",
    "    return sentiment_score, non_stopword_count\n",
    "\n",
    "start = time.time()\n",
    "\n",
    "# Initialize an empty graph\n",
    "G = nx.DiGraph()\n",
    "\n",
    "current_node = None\n",
    "counter=0\n",
    "\n",
    "sentiment_scores = defaultdict(float)\n",
    "non_stopword_counts = defaultdict(int)\n",
    "\n",
    "n_lines= 10**4\n",
    "for line in content[:n_lines]:\n",
    "    counter += 1\n",
    "     \n",
    "    parts = line.split(\"\\t\")\n",
    "    \n",
    "    if parts[0] == \"P\":\n",
    "        current_node = parts[1].strip()\n",
    "        G.add_node(current_node, name=current_node, key_phrases=[], links=[])\n",
    "    elif current_node is not None:\n",
    "        if parts[0] == \"T\":\n",
    "            G.nodes[current_node][\"timestamp\"] = parts[1].strip()\n",
    "        elif parts[0] == \"Q\":\n",
    "            phrase = parts[1].strip()\n",
    "            G.nodes[current_node][\"key_phrases\"].append(phrase)\n",
    "            sentiment_score, non_stopword_count = preprocess_and_get_sentiment_score(phrase)\n",
    "            sentiment_scores[current_node] += sentiment_score\n",
    "            non_stopword_counts[current_node] += non_stopword_count\n",
    "        elif parts[0] == \"L\":\n",
    "            link = parts[1].strip()\n",
    "            if not G.has_node(link):\n",
    "                G.add_node(link, name=link, key_phrases=[], links=[])\n",
    "            G.add_edge(current_node, link)\n",
    "    \n",
    "    if counter % (n_lines/10) == 0:\n",
    "        print(f\"{counter/n_lines} in {(time.time() - start)/60} minuts\")\n",
    "        \n",
    "for node in G.nodes:\n",
    "    non_stopword_count = non_stopword_counts[node]\n",
    "    if non_stopword_count not in [0,1]:\n",
    "        log_non_stopword_count = log(non_stopword_count)\n",
    "        normalized_sentiment_score = sentiment_scores[node] / log_non_stopword_count\n",
    "    else:\n",
    "        normalized_sentiment_score = sentiment_scores[node]\n",
    "    G.nodes[node][\"normalized_sentiment_score\"] = normalized_sentiment_score\n",
    "        \n",
    "stop = time.time()\n",
    "print(f\"time taken to process: {(stop - start)/60} minuts\")\n",
    "\n",
    "# Now G contains the network created from the list"
   ]
  },
  {
   "cell_type": "code",
   "execution_count": 100,
   "id": "36c8c828",
   "metadata": {},
   "outputs": [
    {
     "data": {
      "text/plain": [
       "{'name': 'http://marinelog.com/docs/newsmmvii/2008jul00312.html',\n",
       " 'key_phrases': ['it is no longer feasible or affordable to purchase the most capable multi-mission platform and then limit its use to execute tailored mission areas or focus on specific threats as asymmetric threats continue to evolve so will traditional threats the navy must find affordable and adaptable ways to fill current and future warfighting gaps',\n",
       "  'a capable ship which meets the requirements for which it was designed',\n",
       "  \"the ddg 1000 cannot perform area air defense specifically it cannot successfully employ the standard missile sm-2 sm-3 or sm-6 and is incapable of conducting ballistic missile defense although superior in littoral asw the ddg 1000 lower power sonar design is less effective in the blue water than ddg-51 capability ddg 1000's advanced gun system ags design provides enhanced naval fires support capability in the littorals with increased survivability however with the accelerated advancement of precision munitions and targeting excess fires capacity already exists from tactical aviation and organic usmc fires unfortunately the ddg 1000 design sacrifices capacity for increased capability in an area where navy already has and is projected to have sufficient capacity and capability\"],\n",
       " 'links': [],\n",
       " 'timestamp': '2008-08-01 00:00:04',\n",
       " 'normalized_sentiment_score': 0.09652562226507033}"
      ]
     },
     "execution_count": 100,
     "metadata": {},
     "output_type": "execute_result"
    }
   ],
   "source": [
    "G.nodes()['http://marinelog.com/docs/newsmmvii/2008jul00312.html']"
   ]
  },
  {
   "cell_type": "code",
   "execution_count": 101,
   "id": "c47d7b4b",
   "metadata": {
    "scrolled": false
   },
   "outputs": [
    {
     "name": "stdout",
     "output_type": "stream",
     "text": [
      "Key phrases of the articles with the 10 lowest sentiment scores:\n",
      "Node: http://dotshout.com/news/view.php?post_id=216352\n",
      "Key phrases: ['no be afraid be very afraid']\n",
      "\n",
      "\n",
      "Node: http://blog.myspace.com/index.cfm?fuseaction=blog.view&friendid=29757032&blogid=420012898\n",
      "Key phrases: ['fuck my ankle']\n",
      "\n",
      "\n",
      "Node: http://guardian.co.uk/world/2008/aug/01/china.usa?gusrc=rss&feed=networkfront\n",
      "Key phrases: ['sabotage the olympics', 'the disgusting actions of this group of anti-chinese lawmakers', 'exposed evil motives to politicise the olympics and interrupt and sabotage the beijing olympics', \"by arranging such a meeting between its leader and these people and making irresponsible remarks on china's human rights and religious situation the us side has rudely interfered in china's internal affairs and sent a seriously wrong message to anti-china hostile forces\"]\n",
      "\n",
      "\n",
      "Node: http://guardian.co.uk/world/2008/aug/01/canada?gusrc=rss&feed=networkfront\n",
      "Key phrases: ['we heard this blood-curdling scream and turned around and the guy was standing up stabbing this guy sitting next to him repeatedly like 40 or 50 times', 'when he was attacking him he was calm it was like he was at the beach', 'there was no rage or anything he was just like a robot stabbing the guy', 'he went back to his seat and brought the head to the front and pretty much displayed it to us like that and then dropped it on the ground in front of us', 'the incident was very tragic but was an isolated event', 'bus travel has been and remains the safest mode of travel in the country', 'this particular incident as horrific as it is is obviously extremely rare', 'certainly the horrific nature of it is probably one-of-a-kind in canadian history']\n",
      "\n",
      "\n",
      "Node: http://phronko.blogspot.com/2008/07/cuil-runnings-cuil-hand-luke-alcuilhol.html\n",
      "Key phrases: ['not so cuil', 'cuil is cold']\n",
      "\n",
      "\n",
      "Node: http://dailyillini.com/news/2008/07/30/news/former.head.of.ill.prisons.sentenced.to.2.years-3395900.shtml\n",
      "Key phrases: ['what i did was absolutely wrong', \"i'm sorry girls\", \"i didn't believe much of your testimony and i didn't believe much of your testimony because of your claimed lack of memory\", 'you hear over and over against that all government officials are corrupt', 'you should have stayed in pittsfield']\n",
      "\n",
      "\n",
      "Node: http://stripes.com/article.asp?section=104&article=56495&source=rss\n",
      "Key phrases: ['the government of japan believes that stringent measures taken to relieve the two officers showed a serious stance from the u s side in regards to the fire', \"the government of japan understands that the navy's investigation was conducted professionally and objectively\", \"we are stunned and can't help feeling shivers going down our spines\", 'terrible horrendous and low-level mistake']\n",
      "\n",
      "\n",
      "Node: http://macleans.ca/article.jsp?content=w0731114a\n",
      "Key phrases: ['show them your weapon and look menacing', 'i heard enough of it to know it was extremely exculpatory', 'a block wall', \"let's see if you can subpoena him to be here for a hearing on the 25th\", \"we're going to see what we can do about the mysterious mr mikell\"]\n",
      "\n",
      "\n",
      "Node: http://wishtv.com/global/story.asp?s=8770451\n",
      "Key phrases: ['there was no rage or anything he was like a robot stabbing the guy']\n",
      "\n",
      "\n",
      "Node: http://guardian.co.uk/business/2008/aug/01/centricabusiness.oilandgascompanies\n",
      "Key phrases: ['british gas customers still reeling from 35 price hikes might have expected centrica to be losing money', \"they will be staggered at the rude health of centrica's half-year profit\", \"customers will be outraged to learn that while they ponder how to make ends meet centrica's shareholders are enjoying an increase in their dividends\", 'across the uk fuel poverty could affect 6 million households by the end of the year', 'ministers may well be on holiday now but they need to stop their sunbathing and plan ahead to protect vulnerable households from the cold this winter', 'this combination of massive profits and eye-watering price rises proves that the privatised provision of basic utilities has failed the public', 'they should be taken back into some form of ownership by the community', 'these latest vast profits now put the case for a windfall tax on big oil companies beyond argument', 'the government should grasp the nettle and do what it did in 1997 by taxing grotesque profits and put the proceeds into helping the millions of people struggling with their fuel bills', \"i don't see why it will help consumers in the long term\", 'one of the cheapest']\n",
      "\n",
      "\n",
      "Key phrases of the articles with the 10 highest sentiment scores:\n",
      "Node: http://mourningserial.wordpress.com/2008/06/10/mourningserial_4\n",
      "Key phrases: ['wow that asparagus is deeevine', 'ok so can we now open that package that has been staring at me this whole dang breakfast', 'yup here it goes', 'so coop is that it just a strange mix of shredded stuff', 'finally there it is now what is that coop', 'well that my lovely is a honest to goodness radio cart machine', 'right mr radio dinosaur what is a cart machine', 'a cart machine is a specialized auto-cue quarter inch tape playing machine commonly used in radio broadcasting through the dawn of computer digital playing mechanisms', 'woe spock that is quite enough fine i get it so who and why would someone send you this thing', 'well i was known by some folk to have an uncommon love for the things', 'ok so coop honey why would someone send you one', 'just look at this thing it weighs about ten pounds it has real plastic buttons and it smells like a cybernetic dinosaur nice oil i bet this is pure marvelous oil in some ways these machines remind me of my 3g iphone', \"coop look my power points are getting burnt out here with all the uv today i just need to know if you need any help with anything else i'm about done hearing about the cart machine as it will be a while until you clue me into what led caused or who did this parachute drop thing you can unravel your package yourself unravel your package hey actually i think your own package may be getting burned out here too your kimono is a bit loose hon\", 'would you look at the heads on this deck they are in good shape i wonder', 'this is wabi-sabi', 'no this machine it is wabi-sabi', \"umm ok why i didn't fall that hard really hey this cart machine is actually attached to a battery powered supply already and here is a cartridge\"]\n",
      "\n",
      "\n",
      "Node: http://reddit.com/goto?rss=true&id=t3_6ucec\n",
      "Key phrases: ['democracy now kucinich keeps rolling that impeach boulder over mt pelosi', \"he's in the middle of an absolutely sisyphean task\", 'spineless two faced lying twat', 'stunning agenda of reform', 'christians are wonderful', \"congress doesn't do anything\", 'sides of the isle', 'i thought that impeachment would be divisive for the country', 'so that americans can really see the crimes bush and cheney have committed', 'ifsomebody had a crime bush had committed sic that would be different', 'i thought that impeachment would be divisive for the country', 'of great interest', 'sides of the isle', 'a great deal of respect for speaker pelosi', \"well i think that it-i think it was important when i became speaker-and it's by the way a very important position i saw it as my responsibility to try to bring a much divided country together to the extent that we could\", 'department of peace', 'business and bullshit as usual', 'business and bullshit as usual', \"congress doesn't do anything\", \"and you can't do that if you're trying to impeach the president at the same time unless you have the goods that this president committed crimes\", 'i thought that impeachment would be divisive for the country', 'cogito ego sum', 'department of peace', 'good ol boys girls club', 'impeach nancy pelosi', 'fuck you pelosi', 'department of peace', 'department of peace', 'the most common of all follies is to believe passionately in the palpably not true it is the chief occupation of mankind', 'i thought that impeachment would be divisive for the country', 'back on the table', 'impeachment off the table', 'impeachment off the table', 'get a room', 'get a room']\n",
      "\n",
      "\n",
      "Node: http://tangospam.typepad.com/tangospam_la_vida_con_deb/2008/07/today-i-went-to-dr-knee-who-is-also-dr-hip-i-guess-you-could-call-him-dr-kneehip-he-is-the-doctor-who-saved-me-after-th.html\n",
      "Key phrases: ['when dr knee hip comes in he is going to ask me maybe 3 questions touch 1 place and then i will scream he is a very dangerous man', 'she said that you would do that', 'and this is why you are studying with me', 'how is the most beautiful rubia in buenos aires', 'vamos a bailar', 'how is the most beautiful rubia in buenos aires', 'i am fine', 'then where have you been', 'does my head bother you', 'because if it does i will cut it off', 'for a beautiful rubia like you i would cut it off', 'yes the argentine man is so wonderful until he knows he has you he is willing to do anything even cut his head off', 'for the milonga i would cut my head off for you no more i live for the milonga and to dance with you inside the milonga outside the milong there is no milonga', 'you are of the milonga', 'maybe you do not want to be but you are', 'you must dance your tandas inside the milonga', 'me too because nobody understands', 'nena come to my milonga some time i miss you']\n",
      "\n",
      "\n",
      "Node: http://blog.myspace.com/index.cfm?fuseaction=blog.view&friendid=3664506&blogid=420012701\n",
      "Key phrases: ['who was the greatest heroine hero in history']\n",
      "\n",
      "\n",
      "Node: http://blog.myspace.com/index.cfm?fuseaction=blog.view&friendid=33299786&blogid=420014668\n",
      "Key phrases: ['love of your life']\n",
      "\n",
      "\n",
      "Node: http://mlb.mlb.com/news/article.jsp?ymd=20080731&content_id=3232064&vkey=trade2008&fext=.jsp&c_id=mlb\n",
      "Key phrases: ['they approached me yesterday afternoon', \"we didn't have a lot of time to get it done so it tends to move a lot faster the last 24 hours i was surprised they obviously had a need for another bat in their lineup and a need for another outfielder i know white sox gm kenny williams had interest in junior in the past and looked at this as a good opportunity to add him to his club\", 'he was a little bit surprised maybe', \"he thought about it and said he wanted to talk to his family about it i think it's a very good opportunity for him they obviously wanted him pursued him and came after him that's got to be a good feeling for him i guess\", 'it was a lot more brief than i thought it was going to be', \"it was kind of shocking all of sudden bam it was done he is still going to be a friend of mine i'm upset that he's leaving but it's a good situation for him he wants to win a ring the white sox are in first place and he has a chance\", \"he wasn't having his best year but he was just getting hot\", \"you won't be able to fill those shoes no one is ken griffey jr it's the end of an era in cincinnati he got hurt a lot but was one of the top five best to ever step on the field\", \"he's one of the best four or five hitters in baseball\", \"i like him yet he marches to his own drummer i had him in the all-star game it doesn't make sense to me that he would be available\", 'we had some things that we were looking at that we were trying to improve mainly with the pen and we did that with rhodes', \"we were trying to add catching depth and we banged on i think every door if we didn't it's our fault as far as any other opportunities yes there were other opportunities that we wanted to explore because we like to be active with the minutes ticking we wanted to take advantage of it why some of those things didn't come to fruition could be a number of factors it could be the money the players to somebody else had different goals than we did\", 'we had conversations that went right down to the wire', \"and whenever you have that obviously you feel like there's a chance but it takes two teams and by definition trades are difficult to make and we've worked extremely hard the last couple of weeks to try and find a pick and improve the team but at the end of the day we didn't find something that lined up for us\", \"i'm not going to address speculation\", 'i know there was a lot out there the way we view that is that the trade deadline is an opportunity for us to examine ways to improve our club we did that we had a lot of discussions a few of them led right up to the deadline but obviously nothing came to fruition', 'we exchanged proposals in a couple of instances but nothing to the point were i was calling owner tom hicks for the final signoff', \"that's fair to say\", \"the last four or five days obviously we've been in a lot of discussions and a lot of meetings and talked over a lot of different scenarios\", 'but we were never real close to what i would call making a deal']\n",
      "\n",
      "\n",
      "Node: http://mlb.mlb.com/news/article.jsp?ymd=20080731&content_id=3232064&vkey=trade2008&fext=.jsp&c_id=mlb&partnerid=rss_mlb\n",
      "Key phrases: ['they approached me yesterday afternoon', \"we didn't have a lot of time to get it done so it tends to move a lot faster the last 24 hours i was surprised they obviously had a need for another bat in their lineup and a need for another outfielder i know white sox gm kenny williams had interest in junior in the past and looked at this as a good opportunity to add him to his club\", 'he was a little bit surprised maybe', \"he thought about it and said he wanted to talk to his family about it i think it's a very good opportunity for him they obviously wanted him pursued him and came after him that's got to be a good feeling for him i guess\", 'it was a lot more brief than i thought it was going to be', \"it was kind of shocking all of sudden bam it was done he is still going to be a friend of mine i'm upset that he's leaving but it's a good situation for him he wants to win a ring the white sox are in first place and he has a chance\", \"he wasn't having his best year but he was just getting hot\", \"you won't be able to fill those shoes no one is ken griffey jr it's the end of an era in cincinnati he got hurt a lot but was one of the top five best to ever step on the field\", \"he's one of the best four or five hitters in baseball\", \"i like him yet he marches to his own drummer i had him in the all-star game it doesn't make sense to me that he would be available\", 'we had some things that we were looking at that we were trying to improve mainly with the pen and we did that with rhodes', \"we were trying to add catching depth and we banged on i think every door if we didn't it's our fault as far as any other opportunities yes there were other opportunities that we wanted to explore because we like to be active with the minutes ticking we wanted to take advantage of it why some of those things didn't come to fruition could be a number of factors it could be the money the players to somebody else had different goals than we did\", 'we had conversations that went right down to the wire', \"and whenever you have that obviously you feel like there's a chance but it takes two teams and by definition trades are difficult to make and we've worked extremely hard the last couple of weeks to try and find a pick and improve the team but at the end of the day we didn't find something that lined up for us\", \"i'm not going to address speculation\", 'i know there was a lot out there the way we view that is that the trade deadline is an opportunity for us to examine ways to improve our club we did that we had a lot of discussions a few of them led right up to the deadline but obviously nothing came to fruition', 'we exchanged proposals in a couple of instances but nothing to the point were i was calling owner tom hicks for the final signoff', \"that's fair to say\", \"the last four or five days obviously we've been in a lot of discussions and a lot of meetings and talked over a lot of different scenarios\", 'but we were never real close to what i would call making a deal']\n",
      "\n",
      "\n",
      "Node: http://blog.myspace.com/index.cfm?fuseaction=blog.view&friendid=7382899&blogid=420015953\n",
      "Key phrases: ['he tested his ideas in classrooms', 'is affirmative action justified under what circumstances', \"i don't think anything that went on in these chambers affected him\", \"his entire life as best i can tell is one in which he's always been a thoughtful listener and questioner but he's never stepped up to the plate and taken full swings\", 'whether to drop a footnote or not drop a footnote', \"first of all i'm not running for governor\", 'but if i did i would expect you to support me', 'dreams from my father', 'are there legal remedies that alleviate not just existing racism but racism from the past', 'why are your friends at the housing projects shooting each other', 'the brady bunch', \"take barack obama there's a good-looking guy\", 'on the national level bipartisanship usually means democrats ignore the needs of the poor and abandon the idea that government can play a role in issues of poverty race discrimination sex discrimination or environmental protection', \"for people who thought they were getting a doctrinal rah-rah experience it wasn't that kind of class\", \"i remember thinking you're offending my liberal instincts\", 'i think he thought they were good and worth trying', \"he surfaced all the competing points of view on guinier's proposals with total neutrality and equanimity\", 'he just let the class debate the merits of them back and forth', 'he just observed it with a kind of interest', 'he figured out you lay low', \"i'm not sure he was close to anyone\", \"i'm not sure we changed him\", \"doesn't have the slightest sense of where folks like me are coming from\", 'he was a successful teacher and an absentee tenant on the other issues', 'maybe we charged an audacious 20', 'no one speaks this way anymore', 'self-determinism as opposed to paternalism strength in numbers his concept of community development']\n",
      "\n",
      "\n",
      "Node: http://santacruzsentinel.com/news/ci_9971133?source=rss\n",
      "Key phrases: ['it promises to be the best stage of the race', \"i think it's the best thing to happen to santa cruz\", \"i don't think people really know how monumental this is in terms of exposure especially internationally\", \"certainly it's nice to go where people appreciate cycling that would clearly be santa cruz and davis those two cities we heard all along in those two cycling is as popular as anywhere in the state which transfers to anywhere in the country really\", 'we are really especially given our budget going to be focused on finding support', 'our city really loved it', 'the great thing was it brought a lot of people into the downtown core restaurants coffee shots and stores all did really well']\n",
      "\n",
      "\n",
      "Node: http://tpmcafe.talkingpointsmemo.com/2008/07/31/thinking_through_the_consequen\n",
      "Key phrases: ['happy is he who believes']\n",
      "\n",
      "\n"
     ]
    }
   ],
   "source": [
    "# Sort the nodes based on their normalized_sentiment_score\n",
    "sorted_nodes = sorted(G.nodes(data=True), key=lambda x: x[1][\"normalized_sentiment_score\"])\n",
    "\n",
    "# Retrieve the 10 nodes with the lowest sentiment scores\n",
    "lowest_sentiment_nodes = sorted_nodes[:10]\n",
    "\n",
    "# Retrieve the 10 nodes with the highest sentiment scores\n",
    "highest_sentiment_nodes = sorted_nodes[-10:]\n",
    "\n",
    "print(\"Key phrases of the articles with the 10 lowest sentiment scores:\")\n",
    "for node, attributes in lowest_sentiment_nodes:\n",
    "    print(f\"Node: {node}\")\n",
    "    print(\"Key phrases:\", attributes[\"key_phrases\"])\n",
    "    print(\"\\n\")\n",
    "\n",
    "print(\"Key phrases of the articles with the 10 highest sentiment scores:\")\n",
    "for node, attributes in highest_sentiment_nodes:\n",
    "    print(f\"Node: {node}\")\n",
    "    print(\"Key phrases:\", attributes[\"key_phrases\"])\n",
    "    print(\"\\n\")\n"
   ]
  },
  {
   "cell_type": "code",
   "execution_count": 102,
   "id": "d84e6790",
   "metadata": {
    "scrolled": true
   },
   "outputs": [
    {
     "ename": "TypeError",
     "evalue": "'dict' object is not callable",
     "output_type": "error",
     "traceback": [
      "\u001B[1;31m---------------------------------------------------------------------------\u001B[0m",
      "\u001B[1;31mTypeError\u001B[0m                                 Traceback (most recent call last)",
      "Cell \u001B[1;32mIn[102], line 4\u001B[0m\n\u001B[0;32m      2\u001B[0m num_nodes \u001B[38;5;241m=\u001B[39m G\u001B[38;5;241m.\u001B[39mnumber_of_nodes()\n\u001B[0;32m      3\u001B[0m num_edges \u001B[38;5;241m=\u001B[39m G\u001B[38;5;241m.\u001B[39mnumber_of_edges()\n\u001B[1;32m----> 4\u001B[0m avg_degree \u001B[38;5;241m=\u001B[39m \u001B[38;5;28msum\u001B[39m(\u001B[38;5;28;43mdict\u001B[39;49m\u001B[43m(\u001B[49m\u001B[43mG\u001B[49m\u001B[38;5;241;43m.\u001B[39;49m\u001B[43mdegree\u001B[49m\u001B[43m(\u001B[49m\u001B[43m)\u001B[49m\u001B[43m)\u001B[49m\u001B[38;5;241m.\u001B[39mvalues()) \u001B[38;5;241m/\u001B[39m num_nodes\n\u001B[0;32m      5\u001B[0m density \u001B[38;5;241m=\u001B[39m nx\u001B[38;5;241m.\u001B[39mdensity(G)\n\u001B[0;32m      7\u001B[0m \u001B[38;5;66;03m# Print summary statistics\u001B[39;00m\n",
      "\u001B[1;31mTypeError\u001B[0m: 'dict' object is not callable"
     ]
    }
   ],
   "source": [
    "# Calculate summary statistics\n",
    "num_nodes = G.number_of_nodes()\n",
    "num_edges = G.number_of_edges()\n",
    "avg_degree = sum(dict(G.degree()).values()) / num_nodes\n",
    "density = nx.density(G)\n",
    "\n",
    "# Print summary statistics\n",
    "print(f\"Number of nodes: {num_nodes}\")\n",
    "print(f\"Number of edges: {num_edges}\")\n",
    "print(f\"Average degree: {avg_degree:.2f}\")\n",
    "print(f\"Density: {density:.4f}\")\n",
    "\n",
    "# Calculate and print some additional statistics if the graph is not empty\n",
    "if num_nodes > 0:\n",
    "    in_degrees = dict(G.in_degree())\n",
    "    out_degrees = dict(G.out_degree())\n",
    "    \n",
    "    max_in_degree_node = max(in_degrees, key=in_degrees.get)\n",
    "    max_out_degree_node = max(out_degrees, key=out_degrees.get)\n",
    "    \n",
    "    print(f\"Node with maximum in-degree: {max_in_degree_node} (in-degree: {in_degrees[max_in_degree_node]})\")\n",
    "    print(f\"Node with maximum out-degree: {max_out_degree_node} (out-degree: {out_degrees[max_out_degree_node]})\")\n",
    "\n",
    "    # Calculate connected components for a weakly connected version of the graph\n",
    "    G_weak = nx.DiGraph.to_undirected(G)\n",
    "    connected_components = [c for c in nx.connected_components(G_weak)]\n",
    "    num_connected_components = len(connected_components)\n",
    "    largest_connected_component = max(connected_components, key=len)\n",
    "    \n",
    "    print(f\"Number of connected components: {num_connected_components}\")\n",
    "    print(f\"Size of the largest connected component: {len(largest_connected_component)}\")"
   ]
  },
  {
   "cell_type": "code",
   "execution_count": 103,
   "id": "f275d873",
   "metadata": {},
   "outputs": [
    {
     "data": {
      "image/png": "[encoded data removed]",
      "text/plain": [
       "<Figure size 640x480 with 1 Axes>"
      ]
     },
     "metadata": {},
     "output_type": "display_data"
    },
    {
     "name": "stdout",
     "output_type": "stream",
     "text": [
      "Assortativity coefficient based on sentiment scores: 0.0596\n"
     ]
    }
   ],
   "source": [
    "import matplotlib.pyplot as plt\n",
    "\n",
    "# Collect sentiment scores from all nodes\n",
    "sentiment_scores_list = [attributes[\"normalized_sentiment_score\"] for _, attributes in G.nodes(data=True)]\n",
    "\n",
    "# Plot the histogram of sentiment scores\n",
    "plt.hist(sentiment_scores_list, bins=20, edgecolor='black')\n",
    "plt.xlabel('Normalized Sentiment Score')\n",
    "plt.ylabel('Frequency')\n",
    "plt.title('Histogram of Sentiment Scores in the Network')\n",
    "plt.show()\n",
    "\n",
    "# Compute the assortativity coefficient based on sentiment scores\n",
    "sentiment_assortativity = nx.attribute_assortativity_coefficient(G, \"normalized_sentiment_score\")\n",
    "print(f\"Assortativity coefficient based on sentiment scores: {sentiment_assortativity:.4f}\")\n"
   ]
  },
  {
   "cell_type": "code",
   "execution_count": null,
   "id": "256f03e4",
   "metadata": {},
   "outputs": [],
   "source": [
    "import matplotlib.pyplot as plt\n",
    "import networkx as nx\n",
    "import netwulf as nw\n",
    "\n",
    "# Discretize sentiment scores into bins\n",
    "sentiment_scores_list = [attributes[\"normalized_sentiment_score\"] for _, attributes in G.nodes(data=True)]\n",
    "num_bins = 10\n",
    "sentiment_bins = np.linspace(min(sentiment_scores_list), max(sentiment_scores_list), num_bins + 1)\n",
    "bin_indices = np.digitize(sentiment_scores_list, sentiment_bins) - 1\n",
    "\n",
    "# Assign each node a bin ID as the group attribute\n",
    "for idx, node in enumerate(G.nodes()):\n",
    "    G.nodes[node][\"group\"] = bin_indices[idx]\n",
    "\n",
    "# Customize the network visualization styles\n",
    "styles = {\n",
    "    \"Node\": {\n",
    "        \"color_map\": {\n",
    "            0: \"#800000\",\n",
    "            1: \"#ff0000\",\n",
    "            2: \"#ff6600\",\n",
    "            3: \"#ffcc00\",\n",
    "            4: \"#ffff00\",\n",
    "            5: \"#ccff00\",\n",
    "            6: \"#99ff00\",\n",
    "            7: \"#33ff00\",\n",
    "            8: \"#00ff00\",\n",
    "            9: \"#008000\"\n",
    "        }\n",
    "    },\n",
    "}\n",
    "dict = nx.get_node_attributes(G,'group')\n",
    "\n",
    "# Draw the graph with node colors based on their sentiment scrore\n",
    "dict = nx.get_node_attributes(G,'sentiment score')\n",
    "nx.set_node_attributes(G,dict,\"group\")\n",
    "results = nw.visualize(G)"
   ]
  },
  {
   "cell_type": "code",
   "execution_count": 89,
   "id": "abb92d66",
   "metadata": {},
   "outputs": [
    {
     "ename": "AttributeError",
     "evalue": "module 'netwulf' has no attribute 'set_node_attributes'",
     "output_type": "error",
     "traceback": [
      "\u001B[1;31m---------------------------------------------------------------------------\u001B[0m",
      "\u001B[1;31mAttributeError\u001B[0m                            Traceback (most recent call last)",
      "Cell \u001B[1;32mIn[89], line 30\u001B[0m\n\u001B[0;32m     28\u001B[0m \u001B[38;5;28mdict\u001B[39m \u001B[38;5;241m=\u001B[39m nx\u001B[38;5;241m.\u001B[39mget_node_attributes(G,\u001B[38;5;124m'\u001B[39m\u001B[38;5;124mgroup\u001B[39m\u001B[38;5;124m'\u001B[39m)\n\u001B[0;32m     29\u001B[0m \u001B[38;5;66;03m# Visualize the network with the colored nodes\u001B[39;00m\n\u001B[1;32m---> 30\u001B[0m \u001B[43mnw\u001B[49m\u001B[38;5;241;43m.\u001B[39;49m\u001B[43mset_node_attributes\u001B[49m(G, \u001B[38;5;124m\"\u001B[39m\u001B[38;5;124mgroup\u001B[39m\u001B[38;5;124m\"\u001B[39m, \u001B[38;5;124m\"\u001B[39m\u001B[38;5;124mgroup\u001B[39m\u001B[38;5;124m\"\u001B[39m)\n\u001B[0;32m     31\u001B[0m results \u001B[38;5;241m=\u001B[39m nw\u001B[38;5;241m.\u001B[39mvisualize(G, config\u001B[38;5;241m=\u001B[39mstyles)\n",
      "\u001B[1;31mAttributeError\u001B[0m: module 'netwulf' has no attribute 'set_node_attributes'"
     ]
    }
   ],
   "source": [
    "import matplotlib.pyplot as plt\n",
    "import networkx as nx\n",
    "import netwulf as nw\n",
    "import numpy as np\n",
    "\n",
    "\n",
    "# Visualize the network with the colored nodes\n",
    "nw.set_node_attributes(G, \"group\", \"group\")\n",
    "results = nw.visualize(G, config=styles)\n"
   ]
  },
  {
   "cell_type": "code",
   "execution_count": 76,
   "id": "e28d2b7e",
   "metadata": {},
   "outputs": [],
   "source": [
    "import pandas as pd\n",
    "import os\n",
    "import networkx as nx\n",
    "import matplotlib.pyplot as plt\n",
    "import numpy as np\n",
    "from scipy import stats\n",
    "import math"
   ]
  },
  {
   "cell_type": "code",
   "execution_count": 77,
   "id": "60ec6dc7",
   "metadata": {},
   "outputs": [
    {
     "name": "stderr",
     "output_type": "stream",
     "text": [
      "C:\\Users\\Ejer\\AppData\\Local\\Temp\\ipykernel_11936\\4258825456.py:8: DeprecationWarning: `np.int` is a deprecated alias for the builtin `int`. To silence this warning, use `int` by itself. Doing this will not modify any behavior and is safe. When replacing `np.int`, you may wish to use e.g. `np.int64` or `np.int32` to specify the precision. If you wish to review your current use, check the release note link for additional information.\n",
      "Deprecated in NumPy 1.20; for more details and guidance: https://numpy.org/devdocs/release/1.20.0-notes.html#deprecations\n",
      "  bins = np.linspace(math.floor(min(X)), math.ceil(max(X)), np.round(math.ceil(max(X))/100).astype(np.int)) #create bins with width of two\n",
      "C:\\Users\\Ejer\\AppData\\Local\\Temp\\ipykernel_11936\\4258825456.py:10: DeprecationWarning: `np.int` is a deprecated alias for the builtin `int`. To silence this warning, use `int` by itself. Doing this will not modify any behavior and is safe. When replacing `np.int`, you may wish to use e.g. `np.int64` or `np.int32` to specify the precision. If you wish to review your current use, check the release note link for additional information.\n",
      "Deprecated in NumPy 1.20; for more details and guidance: https://numpy.org/devdocs/release/1.20.0-notes.html#deprecations\n",
      "  bins = np.logspace(0, np.log10(math.ceil(max(X))), np.round(math.ceil(max(X))/2500).astype(np.int))\n"
     ]
    },
    {
     "ename": "IndexError",
     "evalue": "index 1 is out of bounds for axis 0 with size 1",
     "output_type": "error",
     "traceback": [
      "\u001B[1;31m---------------------------------------------------------------------------\u001B[0m",
      "\u001B[1;31mIndexError\u001B[0m                                Traceback (most recent call last)",
      "Cell \u001B[1;32mIn[77], line 13\u001B[0m\n\u001B[0;32m     11\u001B[0m hist, edges \u001B[38;5;241m=\u001B[39m np\u001B[38;5;241m.\u001B[39mhistogram(X, bins \u001B[38;5;241m=\u001B[39m bins, density \u001B[38;5;241m=\u001B[39m \u001B[38;5;28;01mTrue\u001B[39;00m) \u001B[38;5;66;03m#change density to false if you want y = count (instead of probability distribution))\u001B[39;00m\n\u001B[0;32m     12\u001B[0m x \u001B[38;5;241m=\u001B[39m (edges[\u001B[38;5;241m1\u001B[39m:]\u001B[38;5;241m+\u001B[39medges[:\u001B[38;5;241m-\u001B[39m\u001B[38;5;241m1\u001B[39m])\u001B[38;5;241m/\u001B[39m\u001B[38;5;241m2\u001B[39m\n\u001B[1;32m---> 13\u001B[0m width \u001B[38;5;241m=\u001B[39m \u001B[43mbins\u001B[49m\u001B[43m[\u001B[49m\u001B[38;5;241;43m1\u001B[39;49m\u001B[43m]\u001B[49m\u001B[38;5;241m-\u001B[39mbins[\u001B[38;5;241m0\u001B[39m]\n\u001B[0;32m     15\u001B[0m xx, yy \u001B[38;5;241m=\u001B[39m \u001B[38;5;28mzip\u001B[39m(\u001B[38;5;241m*\u001B[39m[(i,j) \u001B[38;5;28;01mfor\u001B[39;00m (i,j) \u001B[38;5;129;01min\u001B[39;00m \u001B[38;5;28mzip\u001B[39m(x, hist) \u001B[38;5;28;01mif\u001B[39;00m j\u001B[38;5;241m>\u001B[39m\u001B[38;5;241m0\u001B[39m]) \u001B[38;5;66;03m#only keep values above zero\u001B[39;00m\n\u001B[0;32m     17\u001B[0m fig, ax \u001B[38;5;241m=\u001B[39m plt\u001B[38;5;241m.\u001B[39msubplots()\n",
      "\u001B[1;31mIndexError\u001B[0m: index 1 is out of bounds for axis 0 with size 1"
     ]
    }
   ],
   "source": [
    "X = degrees = [d for n, d in G.degree()]\n",
    "x_log = True\n",
    "y_log = True\n",
    "bar_hist = False\n",
    "\n",
    "\n",
    "# Create histogram\n",
    "bins = np.linspace(math.floor(min(X)), math.ceil(max(X)), np.round(math.ceil(max(X))/100).astype(np.int)) #create bins with width of two\n",
    "if x_log:\n",
    "    bins = np.logspace(0, np.log10(math.ceil(max(X))), np.round(math.ceil(max(X))/2500).astype(np.int))\n",
    "hist, edges = np.histogram(X, bins = bins, density = True) #change density to false if you want y = count (instead of probability distribution))\n",
    "x = (edges[1:]+edges[:-1])/2\n",
    "width = bins[1]-bins[0]\n",
    "\n",
    "xx, yy = zip(*[(i,j) for (i,j) in zip(x, hist) if j>0]) #only keep values above zero\n",
    "\n",
    "fig, ax = plt.subplots()\n",
    "if bar_hist:\n",
    "    ax.bar(xx, yy, width = width *0.9)\n",
    "else:\n",
    "    ax.plot(xx, yy, marker = '.')\n",
    "\n",
    "ax.set_xlabel('Degrees')\n",
    "ax.set_ylabel('Probability distribution')\n",
    "if x_log:\n",
    "    ax.set_xscale('log')\n",
    "if y_log:\n",
    "    ax.set_yscale('log')"
   ]
  },
  {
   "cell_type": "code",
   "execution_count": null,
   "id": "49a75f01",
   "metadata": {},
   "outputs": [],
   "source": []
  }
 ],
 "metadata": {
  "kernelspec": {
   "display_name": "Python 3 (ipykernel)",
   "language": "python",
   "name": "python3"
  },
  "language_info": {
   "codemirror_mode": {
    "name": "ipython",
    "version": 3
   },
   "file_extension": ".py",
   "mimetype": "text/x-python",
   "name": "python",
   "nbconvert_exporter": "python",
   "pygments_lexer": "ipython3",
   "version": "3.9.12"
  }
 },
 "nbformat": 4,
 "nbformat_minor": 5
}
