{
 "cells": [
  {
   "cell_type": "code",
   "execution_count": 2,
   "id": "9574de7a",
   "metadata": {},
   "outputs": [],
   "source": [
    "import gzip\n",
    "import pickle"
   ]
  },
  {
   "cell_type": "markdown",
   "id": "9b4cc019",
   "metadata": {},
   "source": [
    "# Function to load the datasets"
   ]
  },
  {
   "cell_type": "code",
   "execution_count": 3,
   "id": "c6a3fdc8",
   "metadata": {},
   "outputs": [],
   "source": [
    "def load_and_unzip_txt_gz(file_path):\n",
    "    filename =\"subset.txt.gz\"\n",
    "    with gzip.open(file_path, 'rt', errors='ignore') as file:\n",
    "        content = [line.strip() for line in file]\n",
    "    return content"
   ]
  },
  {
   "cell_type": "markdown",
   "id": "1c4a7fe7",
   "metadata": {},
   "source": [
    "# Functions to do the Data Cleaning"
   ]
  },
  {
   "cell_type": "code",
   "execution_count": 6,
   "id": "5732b7f6",
   "metadata": {},
   "outputs": [],
   "source": [
    "# Count number of objects and links in the data\n",
    "def count_objects_and_links(data):\n",
    "    object_count = 0\n",
    "    link_count = 0\n",
    "    for element in data:\n",
    "        if element.startswith('P'):\n",
    "            object_count += 1\n",
    "        elif element.startswith('L'):\n",
    "            link_count += 1\n",
    "    return object_count, link_count\n",
    "\n",
    "#remove lines with more than n=40 links or without any text (Q):\n",
    "def remove_objects_with_conditions(data):\n",
    "    new_data = []\n",
    "    i = 0\n",
    "    removed_link_count = 0\n",
    "    removed_no_q_count = 0\n",
    "\n",
    "    while i < len(data):\n",
    "        if data[i].startswith('P'):\n",
    "            link_count = 0\n",
    "            has_q = False\n",
    "            j = i + 1\n",
    "            while j < len(data) and not data[j].startswith('P'):\n",
    "                if data[j].startswith('L'):\n",
    "                    link_count += 1\n",
    "                elif data[j].startswith('Q'):\n",
    "                    has_q = True\n",
    "                j += 1\n",
    "            \n",
    "            if link_count > 50:\n",
    "                removed_link_count += 1\n",
    "            elif not has_q:\n",
    "                removed_no_q_count += 1\n",
    "            else:\n",
    "                new_data.extend(data[i:j])\n",
    "\n",
    "            i = j\n",
    "        else:\n",
    "            i += 1\n",
    "\n",
    "    return removed_link_count, removed_no_q_count, new_data\n",
    "\n",
    "#remove links to pages which are not present as P\n",
    "def remove_links_to_nonexistent_objects(data):\n",
    "    new_data = []\n",
    "    object_links = {line.split(\"\\t\")[1] for line in data if line.startswith(\"P\")}\n",
    "    n_removed_objects = 0\n",
    "\n",
    "    i = 0\n",
    "    while i < len(data):\n",
    "        if data[i].startswith('P'):\n",
    "            new_data.append(data[i])\n",
    "            j = i + 1\n",
    "            while j < len(data) and not data[j].startswith('P'):\n",
    "                if data[j].startswith('L'):\n",
    "                    link = data[j].split(\"\\t\")[1]\n",
    "                    if link in object_links:\n",
    "                        new_data.append(data[j])\n",
    "                    else:\n",
    "                        n_removed_objects += 1\n",
    "                else:\n",
    "                    new_data.append(data[j])\n",
    "                j += 1\n",
    "            i = j\n",
    "        else:\n",
    "            i += 1\n",
    "\n",
    "    print(f\"Number of removed links to pages outside of the dataset: {n_removed_objects}\")\n",
    "    return new_data\n",
    "\n",
    "#remove objects without incoming or outgoing link\n",
    "def remove_nolink_objects(data):\n",
    "    linked_objects = set()\n",
    "\n",
    "    for line in data:\n",
    "        if line.startswith(\"L\"):\n",
    "            _, link = line.split(\"\\t\", 1)\n",
    "            linked_objects.add(link)\n",
    "\n",
    "    new_data = []\n",
    "    current_object = []\n",
    "    removed_objects_count = 0\n",
    "\n",
    "    for line in data:\n",
    "        if line.startswith(\"P\"):\n",
    "            if current_object:\n",
    "                if current_object[0].split(\"\\t\", 1)[1] in linked_objects:\n",
    "                    new_data.extend(current_object)\n",
    "                else:\n",
    "                    removed_objects_count += 1\n",
    "            current_object = []\n",
    "        current_object.append(line)\n",
    "\n",
    "    if current_object:\n",
    "        if current_object[0].split(\"\\t\", 1)[1] in linked_objects:\n",
    "            new_data.extend(current_object)\n",
    "        else:\n",
    "            removed_objects_count += 1\n",
    "\n",
    "    print(f\"Removed objects without incoming or outgoing link: {removed_objects_count}\")\n",
    "    return new_data"
   ]
  },
  {
   "cell_type": "code",
   "execution_count": 7,
   "id": "6fcc49e4",
   "metadata": {},
   "outputs": [],
   "source": [
    "def data_cleaning(data):\n",
    "    object_count, link_count = count_objects_and_links(data)\n",
    "    print(f\"Number of objects in the list: {object_count}\")\n",
    "    print(f\"Total number of links in the list: {link_count}\")\n",
    "    removed_link_count, removed_no_q_count, filtered_data = remove_objects_with_conditions(data)\n",
    "    print(f\"Removed objects with more than 40 links: {removed_link_count}\")\n",
    "    print(f\"Removed objects with no 'Q': {removed_no_q_count}\")\n",
    "    filtered_data = remove_links_to_nonexistent_objects(filtered_data)\n",
    "    filtered_data = remove_nolink_objects(filtered_data)\n",
    "    return filtered_data"
   ]
  },
  {
   "cell_type": "markdown",
   "id": "070acf02",
   "metadata": {},
   "source": [
    "# Load and Clean Data"
   ]
  },
  {
   "cell_type": "code",
   "execution_count": 8,
   "id": "d19bb49c",
   "metadata": {},
   "outputs": [
    {
     "name": "stdout",
     "output_type": "stream",
     "text": [
      "quotes_2008-08.txt.gz\n",
      "Number of objects in the list: 7340810\n",
      "Total number of links in the list: 27819202\n",
      "Removed objects with more than 40 links: 123658\n",
      "Removed objects with no 'Q': 2512711\n",
      "Number of removed links to pages outside of the dataset: 3304977\n",
      "Removed objects without incoming or outgoing link: 4558956\n",
      "quotes_2008-09.txt.gz\n",
      "Number of objects in the list: 9464211\n",
      "Total number of links in the list: 64387422\n",
      "Removed objects with more than 40 links: 110099\n",
      "Removed objects with no 'Q': 4812550\n",
      "Number of removed links to pages outside of the dataset: 5570874\n",
      "Removed objects without incoming or outgoing link: 4327657\n",
      "quotes_2008-10.txt.gz\n",
      "Number of objects in the list: 10024181\n",
      "Total number of links in the list: 36700694\n",
      "Removed objects with more than 40 links: 114201\n",
      "Removed objects with no 'Q': 5355912\n",
      "Number of removed links to pages outside of the dataset: 6198301\n",
      "Removed objects without incoming or outgoing link: 4334483\n",
      "quotes_2008-11.txt.gz\n",
      "Number of objects in the list: 9012650\n",
      "Total number of links in the list: 34200096\n",
      "Removed objects with more than 40 links: 106722\n",
      "Removed objects with no 'Q': 4863959\n",
      "Number of removed links to pages outside of the dataset: 5355649\n",
      "Removed objects without incoming or outgoing link: 3856702\n",
      "quotes_2008-12.txt.gz\n",
      "Number of objects in the list: 9230928\n",
      "Total number of links in the list: 34479582\n",
      "Removed objects with more than 40 links: 97480\n",
      "Removed objects with no 'Q': 5000111\n",
      "Number of removed links to pages outside of the dataset: 5224649\n",
      "Removed objects without incoming or outgoing link: 3943109\n",
      "quotes_2009-01.txt.gz\n",
      "Number of objects in the list: 9190126\n",
      "Total number of links in the list: 37114144\n",
      "Removed objects with more than 40 links: 117256\n",
      "Removed objects with no 'Q': 4856020\n",
      "Number of removed links to pages outside of the dataset: 5559719\n",
      "Removed objects without incoming or outgoing link: 4015070\n",
      "quotes_2009-02.txt.gz\n",
      "Number of objects in the list: 12532728\n",
      "Total number of links in the list: 46958667\n",
      "Removed objects with more than 40 links: 175675\n",
      "Removed objects with no 'Q': 5607810\n",
      "Number of removed links to pages outside of the dataset: 8573351\n",
      "Removed objects without incoming or outgoing link: 6507495\n",
      "quotes_2009-03.txt.gz\n",
      "Number of objects in the list: 14499663\n",
      "Total number of links in the list: 56683563\n",
      "Removed objects with more than 40 links: 206954\n",
      "Removed objects with no 'Q': 6579598\n",
      "Number of removed links to pages outside of the dataset: 9912892\n",
      "Removed objects without incoming or outgoing link: 7438196\n"
     ]
    }
   ],
   "source": [
    "# Define a list of filenames\n",
    "filenames = ['quotes_2008-08.txt.gz', 'quotes_2008-09.txt.gz', 'quotes_2008-10.txt.gz', 'quotes_2008-11.txt.gz', 'quotes_2008-12.txt.gz', 'quotes_2009-01.txt.gz', 'quotes_2009-02.txt.gz', 'quotes_2009-03.txt.gz']\n",
    "\n",
    "# Define an empty list to store the results\n",
    "content = []\n",
    "\n",
    "# Loop through the filenames and process each file\n",
    "for filename in filenames:\n",
    "    print(filename)\n",
    "    result = load_and_unzip_txt_gz(filename)\n",
    "    # Append the result to the list of results\n",
    "    result = data_cleaning(result)\n",
    "    content.append(result)"
   ]
  },
  {
   "cell_type": "markdown",
   "id": "b7a6feef",
   "metadata": {},
   "source": [
    "# Save/load as pickle file"
   ]
  },
  {
   "cell_type": "code",
   "execution_count": 19,
   "id": "87f178a8",
   "metadata": {},
   "outputs": [],
   "source": [
    "#flatten the list\n",
    "content = [item for sublist in content for item in sublist]\n",
    "\n",
    "# Save the list to a file\n",
    "with open('content_full.pickle', 'wb') as f:\n",
    "    pickle.dump(content, f)"
   ]
  },
  {
   "cell_type": "code",
   "execution_count": 11,
   "id": "70f3ebd9",
   "metadata": {},
   "outputs": [],
   "source": [
    "# Load the list from the file\n",
    "with open('content_full.pickle', 'rb') as f:\n",
    "    content = pickle.load(f)"
   ]
  },
  {
   "cell_type": "code",
   "execution_count": 20,
   "id": "9bd5dd56",
   "metadata": {},
   "outputs": [
    {
     "data": {
      "text/plain": [
       "(1672913, 2132525)"
      ]
     },
     "execution_count": 20,
     "metadata": {},
     "output_type": "execute_result"
    }
   ],
   "source": [
    "# Count number of objects and links in the data\n",
    "count_objects_and_links(content)"
   ]
  }
 ],
 "metadata": {
  "kernelspec": {
   "display_name": "Python 3 (ipykernel)",
   "language": "python",
   "name": "python3"
  },
  "language_info": {
   "codemirror_mode": {
    "name": "ipython",
    "version": 3
   },
   "file_extension": ".py",
   "mimetype": "text/x-python",
   "name": "python",
   "nbconvert_exporter": "python",
   "pygments_lexer": "ipython3",
   "version": "3.9.7"
  }
 },
 "nbformat": 4,
 "nbformat_minor": 5
}
